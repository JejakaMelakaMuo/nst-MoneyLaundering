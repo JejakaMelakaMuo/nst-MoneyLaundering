{
 "cells": [
  {
   "cell_type": "markdown",
   "metadata": {},
   "source": [
    "Profiling using Regex : collect personal information (name,age,status)"
   ]
  },
  {
   "cell_type": "code",
   "execution_count": 1,
   "metadata": {},
   "outputs": [],
   "source": [
    "# Import regex library\n",
    "import re"
   ]
  },
  {
   "cell_type": "code",
   "execution_count": 2,
   "metadata": {},
   "outputs": [],
   "source": [
    "text = '''\n",
    "Born\tElon Reeve Musk\n",
    "June 28, 1971 (age 52)\n",
    "Pretoria, Transvaal, South Africa\n",
    "Citizenship\t\n",
    "South Africa\n",
    "Canada\n",
    "United States\n",
    "Education\tUniversity of Pennsylvania (BA, BS)\n",
    "Title\t\n",
    "Founder, CEO, and chief engineer of SpaceX\n",
    "CEO and product architect of Tesla, Inc.\n",
    "Owner and CTO of X, formerly Twitter\n",
    "President of the Musk Foundation\n",
    "Founder of The Boring Company, X Corp., and xAI\n",
    "Co-founder of Neuralink, OpenAI, Zip2, and X.com (part of PayPal)\n",
    "'''"
   ]
  },
  {
   "cell_type": "code",
   "execution_count": 7,
   "metadata": {},
   "outputs": [
    {
     "data": {
      "text/plain": [
       "['52']"
      ]
     },
     "execution_count": 7,
     "metadata": {},
     "output_type": "execute_result"
    }
   ],
   "source": [
    "#extract age\n",
    "pattern = 'age (\\d*)'\n",
    "\n",
    "matches = re.findall(pattern, text)\n",
    "matches\n"
   ]
  },
  {
   "cell_type": "code",
   "execution_count": 6,
   "metadata": {},
   "outputs": [
    {
     "data": {
      "text/plain": [
       "'Elon Reeve Musk'"
      ]
     },
     "execution_count": 6,
     "metadata": {},
     "output_type": "execute_result"
    }
   ],
   "source": [
    "#extract name\n",
    "pattern = 'Born(.*)'\n",
    "\n",
    "matches = re.findall(pattern, text)\n",
    "matches[0].strip()\n"
   ]
  },
  {
   "cell_type": "code",
   "execution_count": 8,
   "metadata": {},
   "outputs": [
    {
     "data": {
      "text/plain": [
       "['June 28, 1971 ']"
      ]
     },
     "execution_count": 8,
     "metadata": {},
     "output_type": "execute_result"
    }
   ],
   "source": [
    "#extract birthdate\n",
    "pattern = 'Born.*\\n(.*)\\(age'\n",
    "\n",
    "matches = re.findall(pattern, text)\n",
    "matches"
   ]
  },
  {
   "cell_type": "code",
   "execution_count": null,
   "metadata": {},
   "outputs": [],
   "source": [
    "import pandas as pd\n",
    "import wikipediaapi\n",
    "from datetime import datetime\n",
    "\n",
    "# Function to fetch information from Wikipedia\n",
    "def get_wikipedia_info(name):\n",
    "    wiki_wiki = wikipediaapi.Wikipedia('en')\n",
    "    page_py = wiki_wiki.page(name)\n",
    "\n",
    "    if not page_py.exists():\n",
    "        return None\n",
    "\n",
    "    # Extracting date of birth\n",
    "    dob = None\n",
    "    if 'birth_date' in page_py.text:\n",
    "        dob_index = page_py.text.find('birth_date') + len('birth_date')\n",
    "        dob = page_py.text[dob_index:dob_index + 50].split('\\n')[0].strip()\n",
    "\n",
    "    return {\n",
    "        'name': name,\n",
    "        'date_of_birth': dob,\n",
    "        'age': calculate_age(dob)\n",
    "    }\n",
    "\n",
    "# Function to calculate age from date of birth\n",
    "def calculate_age(dob):\n",
    "    if dob:\n",
    "        birth_date = datetime.strptime(dob, \"%Y-%m-%d\")\n",
    "        today = datetime.today()\n",
    "        age = today.year - birth_date.year - ((today.month, today.day) < (birth_date.month, birth_date.day))\n",
    "        return age\n",
    "    return None\n",
    "\n",
    "# Sample DataFrame\n",
    "data = {'Name': ['Barack Obama', 'Albert Einstein', 'Ada Lovelace']}\n",
    "df4 = pd.DataFrame(data)\n",
    "\n",
    "# Add columns for extracted information\n",
    "df4['Date_of_Birth'] = None\n",
    "df4['Age'] = None\n",
    "\n",
    "# Iterate through each row and fetch information from Wikipedia\n",
    "for index, row in df4.iterrows():\n",
    "    name = row['Name']\n",
    "    info = get_wikipedia_info(name)\n",
    "    if info:\n",
    "        df4.at[index, 'Date_of_Birth'] = info['date_of_birth']\n",
    "        df4.at[index, 'Age'] = info['age']\n",
    "\n",
    "# Display the final DataFrame\n",
    "print(df4)\n"
   ]
  }
 ],
 "metadata": {
  "kernelspec": {
   "display_name": "Python 3",
   "language": "python",
   "name": "python3"
  },
  "language_info": {
   "codemirror_mode": {
    "name": "ipython",
    "version": 3
   },
   "file_extension": ".py",
   "mimetype": "text/x-python",
   "name": "python",
   "nbconvert_exporter": "python",
   "pygments_lexer": "ipython3",
   "version": "3.8.2"
  }
 },
 "nbformat": 4,
 "nbformat_minor": 2
}
